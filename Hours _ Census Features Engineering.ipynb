{
 "cells": [
  {
   "cell_type": "code",
   "execution_count": 1,
   "id": "68777dcb",
   "metadata": {},
   "outputs": [],
   "source": [
    "# import tarfile\n",
    "# import json\n",
    "import numpy as np\n",
    "import pandas as pd\n",
    "import datetime\n",
    "from datetime import datetime, date\n",
    "from datetime import timedelta"
   ]
  },
  {
   "cell_type": "code",
   "execution_count": 54,
   "id": "3ca3f471",
   "metadata": {},
   "outputs": [],
   "source": [
    "import pandas as pd\n",
    "\n",
    "df_business = pd.read_json('yelp_academic_dataset_business.json', lines=True)\n",
    "df_checkin = pd.read_json('yelp_academic_dataset_checkin.json', lines=True)\n",
    "df_tip = pd.read_json('yelp_academic_dataset_tip.json', lines=True)"
   ]
  },
  {
   "cell_type": "code",
   "execution_count": 5,
   "id": "d554bb73",
   "metadata": {},
   "outputs": [],
   "source": [
    "# df_review_chunks = pd.read_json('yelp_academic_dataset_review.json', lines=True, chunksize = 1000)\n",
    "# df_review = pd.DataFrame()\n",
    "# for chunk in df_review_chunks:\n",
    "#     df_review = pd.concat([df_review, chunk])"
   ]
  },
  {
   "cell_type": "code",
   "execution_count": 6,
   "id": "6cb8dc1f",
   "metadata": {},
   "outputs": [],
   "source": [
    "# df_user_chunks = pd.read_json('yelp_academic_dataset_user.json', lines=True, chunksize = 1000)\n",
    "# df_user = pd.DataFrame()\n",
    "# for chunk in df_user_chunks:\n",
    "#     df_user = pd.concat([df_user, chunk])"
   ]
  },
  {
   "cell_type": "code",
   "execution_count": 366,
   "id": "229e8d23",
   "metadata": {},
   "outputs": [],
   "source": [
    "df_business.head()"
   ]
  },
  {
   "cell_type": "code",
   "execution_count": 56,
   "id": "bcd18cc4",
   "metadata": {},
   "outputs": [
    {
     "data": {
      "text/plain": [
       "(150346, 14)"
      ]
     },
     "execution_count": 56,
     "metadata": {},
     "output_type": "execute_result"
    }
   ],
   "source": [
    "df_business.shape"
   ]
  },
  {
   "cell_type": "code",
   "execution_count": 57,
   "id": "e81c4820",
   "metadata": {},
   "outputs": [
    {
     "data": {
      "text/plain": [
       "business_id         0\n",
       "name                0\n",
       "address             0\n",
       "city                0\n",
       "state               0\n",
       "postal_code         0\n",
       "latitude            0\n",
       "longitude           0\n",
       "stars               0\n",
       "review_count        0\n",
       "is_open             0\n",
       "attributes      13744\n",
       "categories        103\n",
       "hours           23223\n",
       "dtype: int64"
      ]
     },
     "execution_count": 57,
     "metadata": {},
     "output_type": "execute_result"
    }
   ],
   "source": [
    "df_business.isna().sum()"
   ]
  },
  {
   "cell_type": "markdown",
   "id": "104f5c58",
   "metadata": {},
   "source": [
    "# Feature Engineering"
   ]
  },
  {
   "cell_type": "markdown",
   "id": "6951cf20",
   "metadata": {},
   "source": [
    "### Extracting Hours"
   ]
  },
  {
   "cell_type": "code",
   "execution_count": 367,
   "id": "cb365d19",
   "metadata": {},
   "outputs": [],
   "source": [
    "df_business.hours"
   ]
  },
  {
   "cell_type": "code",
   "execution_count": 59,
   "id": "b1501e54",
   "metadata": {},
   "outputs": [
    {
     "data": {
      "text/plain": [
       "{'Monday': '0:0-0:0',\n",
       " 'Tuesday': '8:0-18:30',\n",
       " 'Wednesday': '8:0-18:30',\n",
       " 'Thursday': '8:0-18:30',\n",
       " 'Friday': '8:0-18:30',\n",
       " 'Saturday': '8:0-14:0'}"
      ]
     },
     "execution_count": 59,
     "metadata": {},
     "output_type": "execute_result"
    }
   ],
   "source": [
    "df_business['hours'][1]"
   ]
  },
  {
   "cell_type": "code",
   "execution_count": 60,
   "id": "10fe5f24",
   "metadata": {},
   "outputs": [
    {
     "data": {
      "text/plain": [
       "{'Monday': '8:0-22:0',\n",
       " 'Tuesday': '8:0-22:0',\n",
       " 'Wednesday': '8:0-22:0',\n",
       " 'Thursday': '8:0-22:0',\n",
       " 'Friday': '8:0-23:0',\n",
       " 'Saturday': '8:0-23:0',\n",
       " 'Sunday': '8:0-22:0'}"
      ]
     },
     "execution_count": 60,
     "metadata": {},
     "output_type": "execute_result"
    }
   ],
   "source": [
    "df_business['hours'][2]"
   ]
  },
  {
   "cell_type": "code",
   "execution_count": 61,
   "id": "5219e375",
   "metadata": {},
   "outputs": [
    {
     "data": {
      "text/plain": [
       "'0:0-0:0'"
      ]
     },
     "execution_count": 61,
     "metadata": {},
     "output_type": "execute_result"
    }
   ],
   "source": [
    "df_business['hours'][1]['Monday']"
   ]
  },
  {
   "cell_type": "code",
   "execution_count": 62,
   "id": "d5b502a4",
   "metadata": {},
   "outputs": [],
   "source": [
    "def hours_extraction(df, day):\n",
    "    df[day] = np.nan\n",
    "    for i in range(len(df.hours)):\n",
    "        try:\n",
    "            # check for errors\n",
    "            df['hours'][i][day]\n",
    "        except:\n",
    "            continue\n",
    "        else:\n",
    "            # if no error, then value exists, so add\n",
    "            df[day][i] = df['hours'][i][day]"
   ]
  },
  {
   "cell_type": "code",
   "execution_count": 368,
   "id": "e15f96ac",
   "metadata": {},
   "outputs": [],
   "source": [
    "hours_extraction(df_business, 'Monday')\n",
    "hours_extraction(df_business, 'Tuesday')\n",
    "hours_extraction(df_business, 'Wednesday')\n",
    "hours_extraction(df_business, 'Thursday')\n",
    "hours_extraction(df_business, 'Friday')\n",
    "hours_extraction(df_business, 'Saturday')\n",
    "hours_extraction(df_business, 'Sunday')"
   ]
  },
  {
   "cell_type": "code",
   "execution_count": 369,
   "id": "15a57878",
   "metadata": {},
   "outputs": [],
   "source": [
    "# df_business.head(10)"
   ]
  },
  {
   "cell_type": "markdown",
   "id": "3f3a02c2",
   "metadata": {},
   "source": [
    "### Open on Weekends?"
   ]
  },
  {
   "cell_type": "code",
   "execution_count": 386,
   "id": "6ff9fc28",
   "metadata": {},
   "outputs": [],
   "source": [
    "df_business['Saturday'].value_counts()"
   ]
  },
  {
   "cell_type": "code",
   "execution_count": 370,
   "id": "fbe060d8",
   "metadata": {},
   "outputs": [],
   "source": [
    "# df_business['Sunday'].value_counts()"
   ]
  },
  {
   "cell_type": "code",
   "execution_count": 371,
   "id": "40cf6e35",
   "metadata": {},
   "outputs": [],
   "source": [
    "df_business['Open Weekend'] = np.nan\n",
    "for i in range(len(df_business)):\n",
    "#     print(i)\n",
    "    # if both are nans\n",
    "    if pd.isnull(df_business['Saturday'][i]) and pd.isnull(df_business['Sunday'][i]):\n",
    "        continue\n",
    "    # if only saturday is nan\n",
    "    elif pd.isnull(df_business['Saturday'][i]) and not(pd.isnull(df_business['Sunday'][i])):\n",
    "        if (df_business['Sunday'][i] == '0:0-0:0'):\n",
    "            df_business['Open Weekend'][i] = 0\n",
    "        else:\n",
    "            df_business['Open Weekend'][i] = 1\n",
    "    # if only sunday is nan\n",
    "    elif not(pd.isnull(df_business['Saturday'][i])) and pd.isnull(df_business['Sunday'][i]):\n",
    "        if (df_business['Saturday'][i] == '0:0-0:0'):\n",
    "            df_business['Open Weekend'][i] = 0\n",
    "        else:\n",
    "            df_business['Open Weekend'][i] = 1   \n",
    "    # if neither are nans\n",
    "    else:\n",
    "        if (df_business['Saturday'][i] == '0:0-0:0') and (df_business['Sunday'][i] == '0:0-0:0'):\n",
    "            df_business['Open Weekend'][i] = 0\n",
    "        else:\n",
    "            df_business['Open Weekend'][i] = 1\n",
    "        "
   ]
  },
  {
   "cell_type": "code",
   "execution_count": 68,
   "id": "7af21967",
   "metadata": {},
   "outputs": [
    {
     "data": {
      "text/plain": [
       "1.0    104392\n",
       "NaN     38949\n",
       "0.0      7005\n",
       "Name: Open Weekend, dtype: int64"
      ]
     },
     "execution_count": 68,
     "metadata": {},
     "output_type": "execute_result"
    }
   ],
   "source": [
    "df_business['Open Weekend'].value_counts(dropna=False)"
   ]
  },
  {
   "cell_type": "markdown",
   "id": "63a0359a",
   "metadata": {},
   "source": [
    "### Extracting start and end time"
   ]
  },
  {
   "cell_type": "code",
   "execution_count": null,
   "id": "ff2cde64",
   "metadata": {},
   "outputs": [],
   "source": [
    "# df_business['Monday open time'] = np.nan\n",
    "# df_business['Monday close time'] = np.nan\n",
    "\n",
    "# for i in range(len(df_business)):\n",
    "#     if not(pd.isnull(df_business['Monday'][i])):\n",
    "#         df_business['Monday open time'][i] = df_business['Monday'][i].split('-')[0]\n",
    "#         df_business['Monday close time'][i] = df_business['Monday'][i].split('-')[1]\n",
    "#     else:\n",
    "#         continue"
   ]
  },
  {
   "cell_type": "code",
   "execution_count": 69,
   "id": "68f51f96",
   "metadata": {},
   "outputs": [],
   "source": [
    "def extract_start_end_time(open_time, close_time, day, df):\n",
    "    df[open_time] = np.nan\n",
    "    df[close_time] = np.nan\n",
    "\n",
    "    for i in range(len(df_business)):\n",
    "        if not(pd.isnull(df_business[day][i])):\n",
    "            df[open_time][i] = df[day][i].split('-')[0]\n",
    "            df[close_time][i] = df[day][i].split('-')[1]\n",
    "        else:\n",
    "            continue"
   ]
  },
  {
   "cell_type": "code",
   "execution_count": 372,
   "id": "ef309494",
   "metadata": {
    "scrolled": true
   },
   "outputs": [],
   "source": [
    "extract_start_end_time('Monday open time', 'Monday close time', 'Monday', df_business)\n",
    "extract_start_end_time('Tuesday open time', 'Tuesday close time', 'Tuesday', df_business)\n",
    "extract_start_end_time('Wednesday open time', 'Wednesday close time', 'Wednesday', df_business)\n",
    "extract_start_end_time('Thursday open time', 'Thursday close time', 'Thursday', df_business)\n",
    "extract_start_end_time('Friday open time', 'Friday close time', 'Friday', df_business)\n",
    "extract_start_end_time('Saturday open time', 'Saturday close time', 'Saturday', df_business)\n",
    "extract_start_end_time('Sunday open time', 'Sunday close time', 'Sunday', df_business)"
   ]
  },
  {
   "cell_type": "code",
   "execution_count": 373,
   "id": "133d1ed5",
   "metadata": {},
   "outputs": [],
   "source": [
    "# df_business.head(5)"
   ]
  },
  {
   "cell_type": "markdown",
   "id": "c4fd0a80",
   "metadata": {},
   "source": [
    "### Duration open each day"
   ]
  },
  {
   "cell_type": "code",
   "execution_count": 72,
   "id": "3ff47b0f",
   "metadata": {},
   "outputs": [],
   "source": [
    "def extract_duration(duration, open_time, close_time, day, df):\n",
    "    \n",
    "    df[duration] = np.nan\n",
    "    \n",
    "    for i in range(len(df)):\n",
    "        if not(pd.isnull(df[day][i])):\n",
    "            \n",
    "            open_time_i = datetime.strptime(df[open_time][i], '%H:%M').time()\n",
    "            close_time_i = datetime.strptime(df[close_time][i], '%H:%M').time()\n",
    "    \n",
    "            df[duration][i] = datetime.combine(date.today(), close_time_i) - datetime.combine(date.today(), open_time_i)\n",
    "        \n",
    "        else:\n",
    "            continue"
   ]
  },
  {
   "cell_type": "code",
   "execution_count": 374,
   "id": "1d3294eb",
   "metadata": {
    "scrolled": true
   },
   "outputs": [],
   "source": [
    "extract_duration('Monday duration', 'Monday open time', 'Monday close time', 'Monday', df_business)\n",
    "extract_duration('Tuesday duration', 'Tuesday open time', 'Tuesday close time', 'Tuesday', df_business)\n",
    "extract_duration('Wednesday duration', 'Wednesday open time', 'Wednesday close time', 'Wednesday', df_business)\n",
    "extract_duration('Thursday duration', 'Thursday open time', 'Thursday close time', 'Thursday', df_business)\n",
    "extract_duration('Friday duration', 'Friday open time', 'Friday close time', 'Friday', df_business)\n",
    "extract_duration('Saturday duration', 'Saturday open time', 'Saturday close time', 'Saturday', df_business)\n",
    "extract_duration('Sunday duration', 'Sunday open time', 'Sunday close time', 'Sunday', df_business)"
   ]
  },
  {
   "cell_type": "code",
   "execution_count": 375,
   "id": "810caf3c",
   "metadata": {},
   "outputs": [],
   "source": [
    "# df_business.head(5)"
   ]
  },
  {
   "cell_type": "code",
   "execution_count": 76,
   "id": "86e4fea8",
   "metadata": {},
   "outputs": [
    {
     "data": {
      "text/plain": [
       "datetime.timedelta(0)"
      ]
     },
     "execution_count": 76,
     "metadata": {},
     "output_type": "execute_result"
    }
   ],
   "source": [
    "df_business['Monday duration'][1]"
   ]
  },
  {
   "cell_type": "markdown",
   "id": "400d9fc3",
   "metadata": {},
   "source": [
    "### Total Duration"
   ]
  },
  {
   "cell_type": "code",
   "execution_count": null,
   "id": "daebb9ce",
   "metadata": {},
   "outputs": [],
   "source": [
    "# sum duration on weekdays and weekends \n",
    "# total duration and open on weekend/not"
   ]
  },
  {
   "cell_type": "code",
   "execution_count": 269,
   "id": "cdd0cc98",
   "metadata": {},
   "outputs": [],
   "source": [
    "df_business['Monday duration'] = df_business['Monday duration'].fillna(pd.Timedelta(0))\n",
    "df_business['Tuesday duration'] = df_business['Tuesday duration'].fillna(pd.Timedelta(0))\n",
    "df_business['Wednesday duration'] = df_business['Wednesday duration'].fillna(pd.Timedelta(0))\n",
    "df_business['Thursday duration'] = df_business['Thursday duration'].fillna(pd.Timedelta(0))\n",
    "df_business['Friday duration'] = df_business['Friday duration'].fillna(pd.Timedelta(0))\n",
    "df_business['Saturday duration'] = df_business['Saturday duration'].fillna(pd.Timedelta(0))\n",
    "df_business['Sunday duration'] = df_business['Sunday duration'].fillna(pd.Timedelta(0))"
   ]
  },
  {
   "cell_type": "code",
   "execution_count": 276,
   "id": "3886f8f1",
   "metadata": {},
   "outputs": [],
   "source": [
    "for i in range(len(df_business)-1):\n",
    "    if df_business['Monday duration'][i] < pd.Timedelta(0):\n",
    "        df_business.at[i, 'Monday duration'] = df_business['Monday duration'][i] + pd.Timedelta(24, unit='h') \n",
    "    if df_business['Tuesday duration'][i] < pd.Timedelta(0):\n",
    "        df_business.at[i, 'Tuesday duration'] = df_business['Tuesday duration'][i] + pd.Timedelta(24, unit='h') \n",
    "    if df_business['Wednesday duration'][i] < pd.Timedelta(0):\n",
    "        df_business.at[i, 'Wednesday duration'] = df_business['Wednesday duration'][i] + pd.Timedelta(24, unit='h') \n",
    "    if df_business['Thursday duration'][i] < pd.Timedelta(0):\n",
    "        df_business.at[i, 'Thursday duration'] = df_business['Thursday duration'][i] + pd.Timedelta(24, unit='h') \n",
    "    if df_business['Friday duration'][i] < pd.Timedelta(0):\n",
    "        df_business.at[i, 'Friday duration'] = df_business['Friday duration'][i] + pd.Timedelta(24, unit='h') \n",
    "    if df_business['Saturday duration'][i] < pd.Timedelta(0):\n",
    "        df_business.at[i, 'Saturday duration'] = df_business['Saturday duration'][i] + pd.Timedelta(24, unit='h') \n",
    "    if df_business['Sunday duration'][i] < pd.Timedelta(0):\n",
    "        df_business.at[i, 'Sunday duration'] = df_business['Sunday duration'][i] + pd.Timedelta(24, unit='h') "
   ]
  },
  {
   "cell_type": "code",
   "execution_count": 277,
   "id": "779ff177",
   "metadata": {},
   "outputs": [],
   "source": [
    "df_business['Total duration'] = df_business['Monday duration'] + df_business['Tuesday duration'] + df_business['Wednesday duration'] + df_business['Thursday duration'] + df_business['Friday duration'] + df_business['Saturday duration'] + df_business['Sunday duration']\n"
   ]
  },
  {
   "cell_type": "code",
   "execution_count": 273,
   "id": "7e236b52",
   "metadata": {},
   "outputs": [
    {
     "data": {
      "text/plain": [
       "(150347, 46)"
      ]
     },
     "execution_count": 273,
     "metadata": {},
     "output_type": "execute_result"
    }
   ],
   "source": [
    "df_business.shape"
   ]
  },
  {
   "cell_type": "code",
   "execution_count": 278,
   "id": "c2bbdcf8",
   "metadata": {},
   "outputs": [],
   "source": [
    "for i in df_business['Total duration']:\n",
    "    if i < pd.Timedelta(0):\n",
    "        print(i)"
   ]
  },
  {
   "cell_type": "markdown",
   "id": "3e495ad5",
   "metadata": {},
   "source": [
    "### Total Duration on Weekdays"
   ]
  },
  {
   "cell_type": "code",
   "execution_count": 261,
   "id": "8b5aad27",
   "metadata": {},
   "outputs": [],
   "source": [
    "# def weekday_time(row):\n",
    "#     if not(pd.isnull(row['Monday duration'])) and not(pd.isnull(row['Tuesday duration'])) and not(pd.isnull(row['Wednesday duration'])) and not(pd.isnull(row['Thursday duration'])) and not(pd.isnull(row['Friday duration'])):\n",
    "#         return row['Monday duration'] + row['Tuesday duration'] + row['Wednesday duration'] + row['Thursday duration'] + row['Friday duration']\n",
    "#     elif (pd.isnull(row['Monday duration'])) and not(pd.isnull(row['Tuesday duration'])) and not(pd.isnull(row['Wednesday duration'])) and not(pd.isnull(row['Thursday duration'])) and not(pd.isnull(row['Friday duration'])):\n",
    "#         return row['Tuesday duration'] + row['Wednesday duration'] + row['Thursday duration'] + row['Friday duration']\n",
    "#     elif not(pd.isnull(row['Monday duration'])) and (pd.isnull(row['Tuesday duration'])) and not(pd.isnull(row['Wednesday duration'])) and not(pd.isnull(row['Thursday duration'])) and not(pd.isnull(row['Friday duration'])):\n",
    "#         return row['Monday duration'] + row['Wednesday duration'] + row['Thursday duration'] + row['Friday duration']\n",
    "#     elif not(pd.isnull(row['Monday duration'])) and not(pd.isnull(row['Tuesday duration'])) and (pd.isnull(row['Wednesday duration'])) and not(pd.isnull(row['Thursday duration'])) and not(pd.isnull(row['Friday duration'])):\n",
    "#         return row['Monday duration'] + row['Tuesday duration'] + row['Thursday duration'] + row['Friday duration']\n",
    "#     elif not(pd.isnull(row['Monday duration'])) and not(pd.isnull(row['Tuesday duration'])) and not(pd.isnull(row['Wednesday duration'])) and (pd.isnull(row['Thursday duration'])) and not(pd.isnull(row['Friday duration'])):\n",
    "#         return row['Monday duration'] + row['Tuesday duration'] + row['Wednesday duration'] + row['Friday duration']\n",
    "#     elif not(pd.isnull(row['Monday duration'])) and not(pd.isnull(row['Tuesday duration'])) and not(pd.isnull(row['Wednesday duration'])) and not(pd.isnull(row['Thursday duration'])) and (pd.isnull(row['Friday duration'])):\n",
    "#         return row['Monday duration'] + row['Tuesday duration'] + row['Wednesday duration'] + row['Thursday duration']"
   ]
  },
  {
   "cell_type": "code",
   "execution_count": 262,
   "id": "fa1aa642",
   "metadata": {},
   "outputs": [],
   "source": [
    "# df_business['Weekday duration'] = np.nan\n",
    "# df_business['Weekday duration'] = df_business.apply(lambda row: weekday_time(row), axis=1)"
   ]
  },
  {
   "cell_type": "code",
   "execution_count": 270,
   "id": "127e0e44",
   "metadata": {},
   "outputs": [],
   "source": [
    "# df_business['Weekday nans'] = 0"
   ]
  },
  {
   "cell_type": "code",
   "execution_count": 87,
   "id": "915a48fa",
   "metadata": {
    "scrolled": true
   },
   "outputs": [],
   "source": [
    "# for i in range(len(df_business)):\n",
    "#     if pd.isnull(df_business['Monday duration'][i]):\n",
    "#         df_business['Weekday nans'][i] += 1\n",
    "#     if pd.isnull(df_business['Tuesday duration'][i]):\n",
    "#         df_business['Weekday nans'][i] += 1\n",
    "#     if pd.isnull(df_business['Wednesday duration'][i]):\n",
    "#         df_business['Weekday nans'][i] += 1\n",
    "#     if pd.isnull(df_business['Thursday duration'][i]):\n",
    "#         df_business['Weekday nans'][i] += 1\n",
    "#     if pd.isnull(df_business['Friday duration'][i]):\n",
    "#         df_business['Weekday nans'][i] += 1"
   ]
  },
  {
   "cell_type": "code",
   "execution_count": 387,
   "id": "648494eb",
   "metadata": {},
   "outputs": [],
   "source": [
    "# df_business['Weekday nans'].value_counts()"
   ]
  },
  {
   "cell_type": "markdown",
   "id": "66074ef1",
   "metadata": {},
   "source": [
    "### Total Duration on Weekends"
   ]
  },
  {
   "cell_type": "code",
   "execution_count": 230,
   "id": "8fb275f2",
   "metadata": {},
   "outputs": [],
   "source": [
    "# def weekend_time(row):\n",
    "#     if not(pd.isnull(row['Saturday duration'])) and not(pd.isnull(row['Sunday duration'])):\n",
    "#         return row['Saturday duration'] + row['Sunday duration']\n",
    "#     elif (pd.isnull(row['Saturday duration'])) and not(pd.isnull(row['Sunday duration'])):\n",
    "#         return row['Sunday duration']\n",
    "#     elif not(pd.isnull(row['Saturday duration'])) and (pd.isnull(row['Sunday duration'])):\n",
    "#         return row['Saturday duration']"
   ]
  },
  {
   "cell_type": "code",
   "execution_count": 232,
   "id": "73dd6295",
   "metadata": {},
   "outputs": [],
   "source": [
    "# df_business['Weekend duration'] = np.nan\n",
    "# df_business['Weekend duration'] = df_business.apply(lambda row: weekend_time(row), axis=1)"
   ]
  },
  {
   "cell_type": "code",
   "execution_count": 62,
   "id": "69356e26",
   "metadata": {},
   "outputs": [],
   "source": [
    "# df_business['Monday'] = np.nan"
   ]
  },
  {
   "cell_type": "code",
   "execution_count": 61,
   "id": "dbecb33e",
   "metadata": {},
   "outputs": [],
   "source": [
    "# for i in range(len(df_business.hours)):\n",
    "#     print(i)\n",
    "#     try:\n",
    "#         # check for errors\n",
    "#         df_business['hours'][i]['Monday']\n",
    "#     except:\n",
    "#         continue\n",
    "#         # if error\n",
    "# #         df_business['Monday'][i] = 0\n",
    "#     else:\n",
    "#         # if no error, then value exists\n",
    "#         df_business['Monday'][i] = df_business['hours'][i]['Monday']"
   ]
  },
  {
   "cell_type": "code",
   "execution_count": 63,
   "id": "b1e05bea",
   "metadata": {},
   "outputs": [],
   "source": [
    "# df_business.head(20)"
   ]
  },
  {
   "cell_type": "markdown",
   "id": "30a63475",
   "metadata": {},
   "source": [
    "# Connect df_review and df_business"
   ]
  },
  {
   "cell_type": "code",
   "execution_count": 377,
   "id": "f8fc44c5",
   "metadata": {},
   "outputs": [],
   "source": [
    "# df_review.head()"
   ]
  },
  {
   "cell_type": "code",
   "execution_count": 81,
   "id": "9f6d16cc",
   "metadata": {},
   "outputs": [],
   "source": [
    "df_review_0 = df_review[df_review['business_id'] == df_review['business_id'][0]]"
   ]
  },
  {
   "cell_type": "code",
   "execution_count": 378,
   "id": "a62dee17",
   "metadata": {},
   "outputs": [],
   "source": [
    "# df_review_0.head()"
   ]
  },
  {
   "cell_type": "code",
   "execution_count": 88,
   "id": "919123fa",
   "metadata": {},
   "outputs": [
    {
     "data": {
      "text/plain": [
       "(175, 9)"
      ]
     },
     "execution_count": 88,
     "metadata": {},
     "output_type": "execute_result"
    }
   ],
   "source": [
    "df_review_0.shape"
   ]
  },
  {
   "cell_type": "code",
   "execution_count": 89,
   "id": "85a06768",
   "metadata": {},
   "outputs": [
    {
     "data": {
      "text/plain": [
       "review_id      0\n",
       "user_id        0\n",
       "business_id    0\n",
       "stars          0\n",
       "useful         0\n",
       "funny          0\n",
       "cool           0\n",
       "text           0\n",
       "date           0\n",
       "dtype: int64"
      ]
     },
     "execution_count": 89,
     "metadata": {},
     "output_type": "execute_result"
    }
   ],
   "source": [
    "df_review_0.isna().sum()"
   ]
  },
  {
   "cell_type": "code",
   "execution_count": 83,
   "id": "407850f1",
   "metadata": {},
   "outputs": [
    {
     "data": {
      "text/html": [
       "<div>\n",
       "<style scoped>\n",
       "    .dataframe tbody tr th:only-of-type {\n",
       "        vertical-align: middle;\n",
       "    }\n",
       "\n",
       "    .dataframe tbody tr th {\n",
       "        vertical-align: top;\n",
       "    }\n",
       "\n",
       "    .dataframe thead th {\n",
       "        text-align: right;\n",
       "    }\n",
       "</style>\n",
       "<table border=\"1\" class=\"dataframe\">\n",
       "  <thead>\n",
       "    <tr style=\"text-align: right;\">\n",
       "      <th></th>\n",
       "      <th>business_id</th>\n",
       "      <th>name</th>\n",
       "      <th>address</th>\n",
       "      <th>city</th>\n",
       "      <th>state</th>\n",
       "      <th>postal_code</th>\n",
       "      <th>latitude</th>\n",
       "      <th>longitude</th>\n",
       "      <th>stars</th>\n",
       "      <th>review_count</th>\n",
       "      <th>...</th>\n",
       "      <th>attributes</th>\n",
       "      <th>categories</th>\n",
       "      <th>hours</th>\n",
       "      <th>Monday</th>\n",
       "      <th>Tuesday</th>\n",
       "      <th>Wednesday</th>\n",
       "      <th>Thursday</th>\n",
       "      <th>Friday</th>\n",
       "      <th>Saturday</th>\n",
       "      <th>Sunday</th>\n",
       "    </tr>\n",
       "  </thead>\n",
       "  <tbody>\n",
       "    <tr>\n",
       "      <th>1867</th>\n",
       "      <td>XQfwVwDr-v0ZS3_CbbE5Xw</td>\n",
       "      <td>Turning Point of North Wales</td>\n",
       "      <td>1460 Bethlehem Pike</td>\n",
       "      <td>North Wales</td>\n",
       "      <td>PA</td>\n",
       "      <td>19454</td>\n",
       "      <td>40.210196</td>\n",
       "      <td>-75.223639</td>\n",
       "      <td>3.0</td>\n",
       "      <td>169</td>\n",
       "      <td>...</td>\n",
       "      <td>{'NoiseLevel': 'u'average'', 'HasTV': 'False',...</td>\n",
       "      <td>Restaurants, Breakfast &amp; Brunch, Food, Juice B...</td>\n",
       "      <td>{'Monday': '7:30-15:0', 'Tuesday': '7:30-15:0'...</td>\n",
       "      <td>7:30-15:0</td>\n",
       "      <td>7:30-15:0</td>\n",
       "      <td>7:30-15:0</td>\n",
       "      <td>7:30-15:0</td>\n",
       "      <td>7:30-15:0</td>\n",
       "      <td>7:30-15:0</td>\n",
       "      <td>7:30-15:0</td>\n",
       "    </tr>\n",
       "  </tbody>\n",
       "</table>\n",
       "<p>1 rows × 21 columns</p>\n",
       "</div>"
      ],
      "text/plain": [
       "                 business_id                          name  \\\n",
       "1867  XQfwVwDr-v0ZS3_CbbE5Xw  Turning Point of North Wales   \n",
       "\n",
       "                  address         city state postal_code   latitude  \\\n",
       "1867  1460 Bethlehem Pike  North Wales    PA       19454  40.210196   \n",
       "\n",
       "      longitude  stars  review_count  ...  \\\n",
       "1867 -75.223639    3.0           169  ...   \n",
       "\n",
       "                                             attributes  \\\n",
       "1867  {'NoiseLevel': 'u'average'', 'HasTV': 'False',...   \n",
       "\n",
       "                                             categories  \\\n",
       "1867  Restaurants, Breakfast & Brunch, Food, Juice B...   \n",
       "\n",
       "                                                  hours     Monday    Tuesday  \\\n",
       "1867  {'Monday': '7:30-15:0', 'Tuesday': '7:30-15:0'...  7:30-15:0  7:30-15:0   \n",
       "\n",
       "      Wednesday   Thursday     Friday   Saturday     Sunday  \n",
       "1867  7:30-15:0  7:30-15:0  7:30-15:0  7:30-15:0  7:30-15:0  \n",
       "\n",
       "[1 rows x 21 columns]"
      ]
     },
     "execution_count": 83,
     "metadata": {},
     "output_type": "execute_result"
    }
   ],
   "source": [
    "df_business[df_business['business_id'] == df_review['business_id'][0]]"
   ]
  },
  {
   "cell_type": "code",
   "execution_count": 94,
   "id": "88ca123a",
   "metadata": {},
   "outputs": [
    {
     "data": {
      "text/plain": [
       "stars    3.068571\n",
       "dtype: float64"
      ]
     },
     "execution_count": 94,
     "metadata": {},
     "output_type": "execute_result"
    }
   ],
   "source": [
    "df_review_0[['stars']].mean()"
   ]
  },
  {
   "cell_type": "code",
   "execution_count": 110,
   "id": "8ba1dd33",
   "metadata": {},
   "outputs": [
    {
     "data": {
      "text/plain": [
       "91"
      ]
     },
     "execution_count": 110,
     "metadata": {},
     "output_type": "execute_result"
    }
   ],
   "source": [
    "df_review_0[['useful', 'funny', 'cool']].sum()"
   ]
  },
  {
   "cell_type": "code",
   "execution_count": 95,
   "id": "0cd847b5",
   "metadata": {},
   "outputs": [
    {
     "data": {
      "text/plain": [
       "useful    52.000000\n",
       "funny     13.142857\n",
       "cool      14.857143\n",
       "dtype: float64"
      ]
     },
     "execution_count": 95,
     "metadata": {},
     "output_type": "execute_result"
    }
   ],
   "source": [
    "(df_review_0[['useful', 'funny', 'cool']].sum()/df_review_0.shape[0] ) * 100"
   ]
  },
  {
   "cell_type": "markdown",
   "id": "837fad8e",
   "metadata": {},
   "source": [
    "# Extracting More Features"
   ]
  },
  {
   "cell_type": "code",
   "execution_count": 379,
   "id": "420063d8",
   "metadata": {},
   "outputs": [],
   "source": [
    "# df_business.head(10)"
   ]
  },
  {
   "cell_type": "code",
   "execution_count": 101,
   "id": "876dce8c",
   "metadata": {},
   "outputs": [
    {
     "data": {
      "text/plain": [
       "['ByAppointmentOnly']"
      ]
     },
     "execution_count": 101,
     "metadata": {},
     "output_type": "execute_result"
    }
   ],
   "source": [
    "list(df_business['attributes'][0].keys())"
   ]
  },
  {
   "cell_type": "code",
   "execution_count": 102,
   "id": "aac8e0d4",
   "metadata": {},
   "outputs": [
    {
     "data": {
      "text/plain": [
       "['BusinessAcceptsCreditCards']"
      ]
     },
     "execution_count": 102,
     "metadata": {},
     "output_type": "execute_result"
    }
   ],
   "source": [
    "list(df_business['attributes'][1].keys())"
   ]
  },
  {
   "cell_type": "code",
   "execution_count": 109,
   "id": "4d193b76",
   "metadata": {},
   "outputs": [],
   "source": [
    "attribute_list = []\n",
    "for i in range(len(df_business['attributes'])):\n",
    "#     print(i)\n",
    "    if df_business['attributes'][i] is None:\n",
    "        continue\n",
    "    else:\n",
    "        attribut_list_i = list(df_business['attributes'][i].keys())\n",
    "        attribute_list = attribute_list + attribut_list_i"
   ]
  },
  {
   "cell_type": "code",
   "execution_count": 380,
   "id": "453a8f5d",
   "metadata": {},
   "outputs": [],
   "source": [
    "# attribute_list"
   ]
  },
  {
   "cell_type": "code",
   "execution_count": null,
   "id": "ddfcfb5f",
   "metadata": {},
   "outputs": [],
   "source": [
    "attribute_unique = set(attribute_list)\n",
    "attribute_unique"
   ]
  },
  {
   "cell_type": "markdown",
   "id": "f6395e0f",
   "metadata": {},
   "source": [
    "# Adding Census Tract Information"
   ]
  },
  {
   "cell_type": "code",
   "execution_count": 382,
   "id": "800f9605",
   "metadata": {
    "scrolled": false
   },
   "outputs": [],
   "source": [
    "# df_business.head()"
   ]
  },
  {
   "cell_type": "code",
   "execution_count": null,
   "id": "7ca08640",
   "metadata": {},
   "outputs": [],
   "source": [
    "# ACSDP5Y2020.DP05-Data.csv\n",
    "# ACSST5Y2020.S0101-Data.csv\n",
    "# ACSST5Y2020.S0502-Data.csv"
   ]
  },
  {
   "cell_type": "code",
   "execution_count": 113,
   "id": "9a59e4bb",
   "metadata": {},
   "outputs": [],
   "source": [
    "df_census_1 = pd.read_csv('ACSDP5Y2020.DP05-Data.csv')\n",
    "df_census_1.columns = df_census_1.iloc[0]\n",
    "df_census_1 = df_census_1.iloc[1: , :]\n",
    "df_census_1 = df_census_1.reset_index(drop = True)"
   ]
  },
  {
   "cell_type": "code",
   "execution_count": 122,
   "id": "3d8ebc11",
   "metadata": {},
   "outputs": [],
   "source": [
    "df_census_2 = pd.read_csv('ACSST5Y2020.S0101-Data.csv')\n",
    "df_census_2.columns = df_census_2.iloc[0]\n",
    "df_census_2 = df_census_2.iloc[1: , :]\n",
    "df_census_2 = df_census_2.reset_index(drop = True)"
   ]
  },
  {
   "cell_type": "code",
   "execution_count": 121,
   "id": "8737ba7d",
   "metadata": {},
   "outputs": [],
   "source": [
    "df_census_3 = pd.read_csv('ACSST5Y2020.S0502-Data.csv')\n",
    "df_census_3.columns = df_census_3.iloc[0]\n",
    "df_census_3 = df_census_3.iloc[1: , :]\n",
    "df_census_3 = df_census_3.reset_index(drop = True)"
   ]
  },
  {
   "cell_type": "code",
   "execution_count": 163,
   "id": "ef3cf234",
   "metadata": {},
   "outputs": [],
   "source": [
    "# data cleaning column 1"
   ]
  },
  {
   "cell_type": "code",
   "execution_count": 169,
   "id": "480fc528",
   "metadata": {},
   "outputs": [],
   "source": [
    "columns_to_keep = ['Geographic Area Name',\n",
    "                   'Estimate!!SEX AND AGE!!Total population',\n",
    "                   'Estimate!!SEX AND AGE!!Total population!!Median age (years)',\n",
    "                  'Estimate!!RACE!!Total population!!One race!!White',\n",
    "                  'Estimate!!SEX AND AGE!!Total population!!Sex ratio (males per 100 females)']"
   ]
  },
  {
   "cell_type": "code",
   "execution_count": 170,
   "id": "43565e6a",
   "metadata": {},
   "outputs": [],
   "source": [
    "df_census_1_select = df_census_1[columns_to_keep]"
   ]
  },
  {
   "cell_type": "code",
   "execution_count": 383,
   "id": "eb2f5077",
   "metadata": {},
   "outputs": [],
   "source": [
    "df_census_1_select['postal_code'] = df_census_1_select['Geographic Area Name'].str[-5:]"
   ]
  },
  {
   "cell_type": "code",
   "execution_count": 172,
   "id": "6543a9fd",
   "metadata": {},
   "outputs": [],
   "source": [
    "df_census_1_select = df_census_1_select.drop(['Geographic Area Name'], axis=1)"
   ]
  },
  {
   "cell_type": "code",
   "execution_count": 173,
   "id": "016ea106",
   "metadata": {},
   "outputs": [],
   "source": [
    "df_census_1_select.columns = ['Total Population', 'Median Age', 'White Population', 'Sex Ratio', 'Postal Code']"
   ]
  },
  {
   "cell_type": "code",
   "execution_count": 177,
   "id": "861b6d74",
   "metadata": {},
   "outputs": [],
   "source": [
    "df_census_1_select['Total Population'] = df_census_1_select['Total Population'].astype('int')\n",
    "df_census_1_select['White Population'] = df_census_1_select['White Population'].astype('int')\n",
    "df_census_1_select['Median Age'] = df_census_1_select['Median Age'].astype('float')\n",
    "df_census_1_select['Sex Ratio'] = df_census_1_select['Sex Ratio'].astype('float')"
   ]
  },
  {
   "cell_type": "code",
   "execution_count": 183,
   "id": "a92552ba",
   "metadata": {},
   "outputs": [],
   "source": [
    "df_census_1_select['Percentage White'] = (df_census_1_select['White Population'] /\n",
    "                                          df_census_1_select['Total Population']) * 100"
   ]
  },
  {
   "cell_type": "code",
   "execution_count": 281,
   "id": "410604e3",
   "metadata": {},
   "outputs": [],
   "source": [
    "# left join\n",
    "df_with_census = df_business.merge(df_census_1_select, left_on='postal_code', right_on='Postal Code', how='left')"
   ]
  },
  {
   "cell_type": "code",
   "execution_count": 282,
   "id": "9e08a382",
   "metadata": {},
   "outputs": [
    {
     "data": {
      "text/plain": [
       "(150347, 46)"
      ]
     },
     "execution_count": 282,
     "metadata": {},
     "output_type": "execute_result"
    }
   ],
   "source": [
    "df_business.shape"
   ]
  },
  {
   "cell_type": "code",
   "execution_count": 283,
   "id": "78fb7db7",
   "metadata": {},
   "outputs": [
    {
     "data": {
      "text/plain": [
       "(150347, 52)"
      ]
     },
     "execution_count": 283,
     "metadata": {},
     "output_type": "execute_result"
    }
   ],
   "source": [
    "df_with_census.shape"
   ]
  },
  {
   "cell_type": "code",
   "execution_count": 284,
   "id": "975b32a8",
   "metadata": {},
   "outputs": [
    {
     "data": {
      "text/html": [
       "<div>\n",
       "<style scoped>\n",
       "    .dataframe tbody tr th:only-of-type {\n",
       "        vertical-align: middle;\n",
       "    }\n",
       "\n",
       "    .dataframe tbody tr th {\n",
       "        vertical-align: top;\n",
       "    }\n",
       "\n",
       "    .dataframe thead th {\n",
       "        text-align: right;\n",
       "    }\n",
       "</style>\n",
       "<table border=\"1\" class=\"dataframe\">\n",
       "  <thead>\n",
       "    <tr style=\"text-align: right;\">\n",
       "      <th></th>\n",
       "      <th>latitude</th>\n",
       "      <th>longitude</th>\n",
       "      <th>stars</th>\n",
       "      <th>review_count</th>\n",
       "      <th>is_open</th>\n",
       "      <th>Open Weekend</th>\n",
       "      <th>Monday duration</th>\n",
       "      <th>Tuesday duration</th>\n",
       "      <th>Wednesday duration</th>\n",
       "      <th>Thursday duration</th>\n",
       "      <th>...</th>\n",
       "      <th>Saturday duration</th>\n",
       "      <th>Sunday duration</th>\n",
       "      <th>Total duration</th>\n",
       "      <th>NaT</th>\n",
       "      <th>28</th>\n",
       "      <th>Total Population</th>\n",
       "      <th>Median Age</th>\n",
       "      <th>White Population</th>\n",
       "      <th>Sex Ratio</th>\n",
       "      <th>Percentage White</th>\n",
       "    </tr>\n",
       "  </thead>\n",
       "  <tbody>\n",
       "    <tr>\n",
       "      <th>count</th>\n",
       "      <td>150346.000000</td>\n",
       "      <td>150346.000000</td>\n",
       "      <td>150346.000000</td>\n",
       "      <td>150346.000000</td>\n",
       "      <td>150346.00000</td>\n",
       "      <td>111397.000000</td>\n",
       "      <td>150347</td>\n",
       "      <td>150347</td>\n",
       "      <td>150347</td>\n",
       "      <td>150347</td>\n",
       "      <td>...</td>\n",
       "      <td>150347</td>\n",
       "      <td>150347</td>\n",
       "      <td>150347</td>\n",
       "      <td>1</td>\n",
       "      <td>1</td>\n",
       "      <td>143622.000000</td>\n",
       "      <td>143381.000000</td>\n",
       "      <td>143622.000000</td>\n",
       "      <td>143390.00000</td>\n",
       "      <td>143414.000000</td>\n",
       "    </tr>\n",
       "    <tr>\n",
       "      <th>mean</th>\n",
       "      <td>36.671150</td>\n",
       "      <td>-89.357339</td>\n",
       "      <td>3.596724</td>\n",
       "      <td>44.866561</td>\n",
       "      <td>0.79615</td>\n",
       "      <td>0.937117</td>\n",
       "      <td>0 days 05:41:07.913293913</td>\n",
       "      <td>0 days 07:35:02.109120900</td>\n",
       "      <td>0 days 07:46:19.626597138</td>\n",
       "      <td>0 days 07:49:11.331785802</td>\n",
       "      <td>...</td>\n",
       "      <td>0 days 06:41:01.852514516</td>\n",
       "      <td>0 days 04:37:54.980811057</td>\n",
       "      <td>2 days 00:03:16.855008746</td>\n",
       "      <td>0 days 08:00:00</td>\n",
       "      <td>0 days 08:00:00</td>\n",
       "      <td>30371.803763</td>\n",
       "      <td>39.216010</td>\n",
       "      <td>21529.049045</td>\n",
       "      <td>97.10261</td>\n",
       "      <td>71.948631</td>\n",
       "    </tr>\n",
       "    <tr>\n",
       "      <th>std</th>\n",
       "      <td>5.872759</td>\n",
       "      <td>14.918502</td>\n",
       "      <td>0.974421</td>\n",
       "      <td>121.120136</td>\n",
       "      <td>0.40286</td>\n",
       "      <td>0.242754</td>\n",
       "      <td>0 days 05:35:35.406033072</td>\n",
       "      <td>0 days 05:01:44.832542309</td>\n",
       "      <td>0 days 04:55:58.230469530</td>\n",
       "      <td>0 days 04:52:33.753859547</td>\n",
       "      <td>...</td>\n",
       "      <td>0 days 05:20:12.240196993</td>\n",
       "      <td>0 days 05:20:21.983411709</td>\n",
       "      <td>1 days 07:59:10.071035726</td>\n",
       "      <td>NaT</td>\n",
       "      <td>NaT</td>\n",
       "      <td>15407.357807</td>\n",
       "      <td>6.584495</td>\n",
       "      <td>11730.656211</td>\n",
       "      <td>22.52489</td>\n",
       "      <td>17.459161</td>\n",
       "    </tr>\n",
       "    <tr>\n",
       "      <th>min</th>\n",
       "      <td>27.555127</td>\n",
       "      <td>-120.095137</td>\n",
       "      <td>1.000000</td>\n",
       "      <td>5.000000</td>\n",
       "      <td>0.00000</td>\n",
       "      <td>0.000000</td>\n",
       "      <td>0 days 00:00:00</td>\n",
       "      <td>0 days 00:00:00</td>\n",
       "      <td>0 days 00:00:00</td>\n",
       "      <td>0 days 00:00:00</td>\n",
       "      <td>...</td>\n",
       "      <td>0 days 00:00:00</td>\n",
       "      <td>0 days 00:00:00</td>\n",
       "      <td>0 days 00:00:00</td>\n",
       "      <td>0 days 08:00:00</td>\n",
       "      <td>0 days 08:00:00</td>\n",
       "      <td>0.000000</td>\n",
       "      <td>19.100000</td>\n",
       "      <td>0.000000</td>\n",
       "      <td>46.60000</td>\n",
       "      <td>0.599855</td>\n",
       "    </tr>\n",
       "    <tr>\n",
       "      <th>25%</th>\n",
       "      <td>32.187293</td>\n",
       "      <td>-90.357810</td>\n",
       "      <td>3.000000</td>\n",
       "      <td>8.000000</td>\n",
       "      <td>1.00000</td>\n",
       "      <td>1.000000</td>\n",
       "      <td>0 days 00:00:00</td>\n",
       "      <td>0 days 03:00:00</td>\n",
       "      <td>0 days 04:30:00</td>\n",
       "      <td>0 days 05:00:00</td>\n",
       "      <td>...</td>\n",
       "      <td>0 days 00:00:00</td>\n",
       "      <td>0 days 00:00:00</td>\n",
       "      <td>1 days 05:00:00</td>\n",
       "      <td>0 days 08:00:00</td>\n",
       "      <td>0 days 08:00:00</td>\n",
       "      <td>18468.000000</td>\n",
       "      <td>35.100000</td>\n",
       "      <td>12529.000000</td>\n",
       "      <td>90.00000</td>\n",
       "      <td>64.597491</td>\n",
       "    </tr>\n",
       "    <tr>\n",
       "      <th>50%</th>\n",
       "      <td>38.777413</td>\n",
       "      <td>-86.121179</td>\n",
       "      <td>3.500000</td>\n",
       "      <td>15.000000</td>\n",
       "      <td>1.00000</td>\n",
       "      <td>1.000000</td>\n",
       "      <td>0 days 07:00:00</td>\n",
       "      <td>0 days 09:00:00</td>\n",
       "      <td>0 days 09:00:00</td>\n",
       "      <td>0 days 09:00:00</td>\n",
       "      <td>...</td>\n",
       "      <td>0 days 08:00:00</td>\n",
       "      <td>0 days 00:00:00</td>\n",
       "      <td>2 days 02:00:00</td>\n",
       "      <td>0 days 08:00:00</td>\n",
       "      <td>0 days 08:00:00</td>\n",
       "      <td>28544.000000</td>\n",
       "      <td>38.500000</td>\n",
       "      <td>20696.000000</td>\n",
       "      <td>95.50000</td>\n",
       "      <td>76.088352</td>\n",
       "    </tr>\n",
       "    <tr>\n",
       "      <th>75%</th>\n",
       "      <td>39.954036</td>\n",
       "      <td>-75.421542</td>\n",
       "      <td>4.500000</td>\n",
       "      <td>37.000000</td>\n",
       "      <td>1.00000</td>\n",
       "      <td>1.000000</td>\n",
       "      <td>0 days 10:00:00</td>\n",
       "      <td>0 days 11:00:00</td>\n",
       "      <td>0 days 11:00:00</td>\n",
       "      <td>0 days 11:00:00</td>\n",
       "      <td>...</td>\n",
       "      <td>0 days 11:00:00</td>\n",
       "      <td>0 days 09:00:00</td>\n",
       "      <td>2 days 22:00:00</td>\n",
       "      <td>0 days 08:00:00</td>\n",
       "      <td>0 days 08:00:00</td>\n",
       "      <td>39317.000000</td>\n",
       "      <td>42.800000</td>\n",
       "      <td>28548.000000</td>\n",
       "      <td>100.80000</td>\n",
       "      <td>85.116784</td>\n",
       "    </tr>\n",
       "    <tr>\n",
       "      <th>max</th>\n",
       "      <td>53.679197</td>\n",
       "      <td>-73.200457</td>\n",
       "      <td>5.000000</td>\n",
       "      <td>7568.000000</td>\n",
       "      <td>1.00000</td>\n",
       "      <td>1.000000</td>\n",
       "      <td>0 days 23:59:00</td>\n",
       "      <td>0 days 23:59:00</td>\n",
       "      <td>0 days 23:59:00</td>\n",
       "      <td>0 days 23:59:00</td>\n",
       "      <td>...</td>\n",
       "      <td>0 days 23:59:00</td>\n",
       "      <td>0 days 23:59:00</td>\n",
       "      <td>6 days 23:53:00</td>\n",
       "      <td>0 days 08:00:00</td>\n",
       "      <td>0 days 08:00:00</td>\n",
       "      <td>99109.000000</td>\n",
       "      <td>85.100000</td>\n",
       "      <td>60605.000000</td>\n",
       "      <td>856.00000</td>\n",
       "      <td>100.000000</td>\n",
       "    </tr>\n",
       "  </tbody>\n",
       "</table>\n",
       "<p>8 rows × 21 columns</p>\n",
       "</div>"
      ],
      "text/plain": [
       "            latitude      longitude          stars   review_count  \\\n",
       "count  150346.000000  150346.000000  150346.000000  150346.000000   \n",
       "mean       36.671150     -89.357339       3.596724      44.866561   \n",
       "std         5.872759      14.918502       0.974421     121.120136   \n",
       "min        27.555127    -120.095137       1.000000       5.000000   \n",
       "25%        32.187293     -90.357810       3.000000       8.000000   \n",
       "50%        38.777413     -86.121179       3.500000      15.000000   \n",
       "75%        39.954036     -75.421542       4.500000      37.000000   \n",
       "max        53.679197     -73.200457       5.000000    7568.000000   \n",
       "\n",
       "            is_open   Open Weekend            Monday duration  \\\n",
       "count  150346.00000  111397.000000                     150347   \n",
       "mean        0.79615       0.937117  0 days 05:41:07.913293913   \n",
       "std         0.40286       0.242754  0 days 05:35:35.406033072   \n",
       "min         0.00000       0.000000            0 days 00:00:00   \n",
       "25%         1.00000       1.000000            0 days 00:00:00   \n",
       "50%         1.00000       1.000000            0 days 07:00:00   \n",
       "75%         1.00000       1.000000            0 days 10:00:00   \n",
       "max         1.00000       1.000000            0 days 23:59:00   \n",
       "\n",
       "                Tuesday duration         Wednesday duration  \\\n",
       "count                     150347                     150347   \n",
       "mean   0 days 07:35:02.109120900  0 days 07:46:19.626597138   \n",
       "std    0 days 05:01:44.832542309  0 days 04:55:58.230469530   \n",
       "min              0 days 00:00:00            0 days 00:00:00   \n",
       "25%              0 days 03:00:00            0 days 04:30:00   \n",
       "50%              0 days 09:00:00            0 days 09:00:00   \n",
       "75%              0 days 11:00:00            0 days 11:00:00   \n",
       "max              0 days 23:59:00            0 days 23:59:00   \n",
       "\n",
       "               Thursday duration  ...          Saturday duration  \\\n",
       "count                     150347  ...                     150347   \n",
       "mean   0 days 07:49:11.331785802  ...  0 days 06:41:01.852514516   \n",
       "std    0 days 04:52:33.753859547  ...  0 days 05:20:12.240196993   \n",
       "min              0 days 00:00:00  ...            0 days 00:00:00   \n",
       "25%              0 days 05:00:00  ...            0 days 00:00:00   \n",
       "50%              0 days 09:00:00  ...            0 days 08:00:00   \n",
       "75%              0 days 11:00:00  ...            0 days 11:00:00   \n",
       "max              0 days 23:59:00  ...            0 days 23:59:00   \n",
       "\n",
       "                 Sunday duration             Total duration              NaT  \\\n",
       "count                     150347                     150347                1   \n",
       "mean   0 days 04:37:54.980811057  2 days 00:03:16.855008746  0 days 08:00:00   \n",
       "std    0 days 05:20:21.983411709  1 days 07:59:10.071035726              NaT   \n",
       "min              0 days 00:00:00            0 days 00:00:00  0 days 08:00:00   \n",
       "25%              0 days 00:00:00            1 days 05:00:00  0 days 08:00:00   \n",
       "50%              0 days 00:00:00            2 days 02:00:00  0 days 08:00:00   \n",
       "75%              0 days 09:00:00            2 days 22:00:00  0 days 08:00:00   \n",
       "max              0 days 23:59:00            6 days 23:53:00  0 days 08:00:00   \n",
       "\n",
       "                    28 Total Population     Median Age  White Population  \\\n",
       "count                1    143622.000000  143381.000000     143622.000000   \n",
       "mean   0 days 08:00:00     30371.803763      39.216010      21529.049045   \n",
       "std                NaT     15407.357807       6.584495      11730.656211   \n",
       "min    0 days 08:00:00         0.000000      19.100000          0.000000   \n",
       "25%    0 days 08:00:00     18468.000000      35.100000      12529.000000   \n",
       "50%    0 days 08:00:00     28544.000000      38.500000      20696.000000   \n",
       "75%    0 days 08:00:00     39317.000000      42.800000      28548.000000   \n",
       "max    0 days 08:00:00     99109.000000      85.100000      60605.000000   \n",
       "\n",
       "          Sex Ratio  Percentage White  \n",
       "count  143390.00000     143414.000000  \n",
       "mean       97.10261         71.948631  \n",
       "std        22.52489         17.459161  \n",
       "min        46.60000          0.599855  \n",
       "25%        90.00000         64.597491  \n",
       "50%        95.50000         76.088352  \n",
       "75%       100.80000         85.116784  \n",
       "max       856.00000        100.000000  \n",
       "\n",
       "[8 rows x 21 columns]"
      ]
     },
     "execution_count": 284,
     "metadata": {},
     "output_type": "execute_result"
    }
   ],
   "source": [
    "df_with_census.describe()"
   ]
  },
  {
   "cell_type": "markdown",
   "id": "956df461",
   "metadata": {},
   "source": [
    "# Final Attributes:\n",
    "### Restaurant Open/ Close:\n",
    "- Total duration\n",
    "- Open Weekend\n",
    "\n",
    "### Census Tract\n",
    "- Median Age\n",
    "- Sex Ratio \n",
    "- Percentage White\n",
    "- Total Population"
   ]
  },
  {
   "cell_type": "markdown",
   "id": "e32f51fe",
   "metadata": {},
   "source": [
    "# Final Cleaning and Merging"
   ]
  },
  {
   "cell_type": "code",
   "execution_count": 285,
   "id": "a5328158",
   "metadata": {},
   "outputs": [],
   "source": [
    "df_with_census.to_csv('df_business_with_census.csv')"
   ]
  },
  {
   "cell_type": "code",
   "execution_count": 287,
   "id": "0335eaa8",
   "metadata": {},
   "outputs": [
    {
     "data": {
      "text/plain": [
       "Pns2l4eNsfO8kk83dixA6A    1\n",
       "twx6DPOgaD9CN8wlt4Jcbg    1\n",
       "ogyKKg_D4ioc6Ech_pKqfw    1\n",
       "9D0aKRGsutg8S0ClIanmrA    1\n",
       "_XV_ug_IUiJrGfMiJUqz-Q    1\n",
       "                         ..\n",
       "WVYcB73fVpBMznlhhqjL4w    1\n",
       "f9C3eDtfbQrFklCCLDFuaQ    1\n",
       "WTkDTPmeR_LZn56-xDinZw    1\n",
       "1uAgni70WHOW2CVOfRMurw    1\n",
       "jV_XOycEzSlTx-65W906pg    1\n",
       "Name: business_id, Length: 150346, dtype: int64"
      ]
     },
     "execution_count": 287,
     "metadata": {},
     "output_type": "execute_result"
    }
   ],
   "source": [
    "df_with_census['business_id'].value_counts()"
   ]
  },
  {
   "cell_type": "code",
   "execution_count": 288,
   "id": "9d21d68f",
   "metadata": {},
   "outputs": [
    {
     "data": {
      "text/plain": [
       "(150347, 52)"
      ]
     },
     "execution_count": 288,
     "metadata": {},
     "output_type": "execute_result"
    }
   ],
   "source": [
    "df_with_census.shape"
   ]
  },
  {
   "cell_type": "code",
   "execution_count": 209,
   "id": "90c97e35",
   "metadata": {},
   "outputs": [],
   "source": [
    "restaurant_features = pd.read_csv('restaurant_features.csv')"
   ]
  },
  {
   "cell_type": "code",
   "execution_count": 289,
   "id": "fe30e81c",
   "metadata": {},
   "outputs": [],
   "source": [
    "df_final = df_with_census[['business_id', \n",
    "                           'Total duration',\n",
    "                           'Open Weekend', \n",
    "                           'Median Age', \n",
    "                           'Total Population', \n",
    "                           'Sex Ratio', \n",
    "                           'Percentage White']]"
   ]
  },
  {
   "cell_type": "code",
   "execution_count": 384,
   "id": "c0bc31c4",
   "metadata": {},
   "outputs": [],
   "source": [
    "# df_final.head()"
   ]
  },
  {
   "cell_type": "code",
   "execution_count": 291,
   "id": "e11ce36c",
   "metadata": {},
   "outputs": [
    {
     "data": {
      "text/plain": [
       "(64616, 26)"
      ]
     },
     "execution_count": 291,
     "metadata": {},
     "output_type": "execute_result"
    }
   ],
   "source": [
    "restaurant_features.shape"
   ]
  },
  {
   "cell_type": "code",
   "execution_count": 292,
   "id": "8118432e",
   "metadata": {},
   "outputs": [],
   "source": [
    "df_export = restaurant_features.merge(df_final, left_on='business_id', right_on='business_id', how='left')"
   ]
  },
  {
   "cell_type": "code",
   "execution_count": 299,
   "id": "2583d861",
   "metadata": {},
   "outputs": [],
   "source": [
    "df_export = df_export.drop(columns = df_export.columns[0], axis=1)"
   ]
  },
  {
   "cell_type": "code",
   "execution_count": 303,
   "id": "45bf6472",
   "metadata": {},
   "outputs": [],
   "source": [
    "df_export.to_csv('restaurant_features_all.csv', index=False)"
   ]
  },
  {
   "cell_type": "code",
   "execution_count": 307,
   "id": "fb2e09ac",
   "metadata": {},
   "outputs": [
    {
     "data": {
      "text/html": [
       "<div>\n",
       "<style scoped>\n",
       "    .dataframe tbody tr th:only-of-type {\n",
       "        vertical-align: middle;\n",
       "    }\n",
       "\n",
       "    .dataframe tbody tr th {\n",
       "        vertical-align: top;\n",
       "    }\n",
       "\n",
       "    .dataframe thead th {\n",
       "        text-align: right;\n",
       "    }\n",
       "</style>\n",
       "<table border=\"1\" class=\"dataframe\">\n",
       "  <thead>\n",
       "    <tr style=\"text-align: right;\">\n",
       "      <th></th>\n",
       "      <th>Percentage White</th>\n",
       "      <th>Sex Ratio</th>\n",
       "      <th>Total Population</th>\n",
       "      <th>Median Age</th>\n",
       "      <th>Open Weekend</th>\n",
       "      <th>Total duration</th>\n",
       "    </tr>\n",
       "  </thead>\n",
       "  <tbody>\n",
       "    <tr>\n",
       "      <th>count</th>\n",
       "      <td>61177.000000</td>\n",
       "      <td>61163.000000</td>\n",
       "      <td>61246.000000</td>\n",
       "      <td>61160.000000</td>\n",
       "      <td>53728.000000</td>\n",
       "      <td>64616</td>\n",
       "    </tr>\n",
       "    <tr>\n",
       "      <th>mean</th>\n",
       "      <td>70.693466</td>\n",
       "      <td>97.297685</td>\n",
       "      <td>30097.838896</td>\n",
       "      <td>38.982216</td>\n",
       "      <td>0.963110</td>\n",
       "      <td>2 days 07:20:29.161507985</td>\n",
       "    </tr>\n",
       "    <tr>\n",
       "      <th>std</th>\n",
       "      <td>18.664267</td>\n",
       "      <td>24.586298</td>\n",
       "      <td>15683.636977</td>\n",
       "      <td>6.722132</td>\n",
       "      <td>0.188492</td>\n",
       "      <td>1 days 10:36:12.604976744</td>\n",
       "    </tr>\n",
       "    <tr>\n",
       "      <th>min</th>\n",
       "      <td>0.599855</td>\n",
       "      <td>47.400000</td>\n",
       "      <td>0.000000</td>\n",
       "      <td>19.100000</td>\n",
       "      <td>0.000000</td>\n",
       "      <td>0 days 00:00:00</td>\n",
       "    </tr>\n",
       "    <tr>\n",
       "      <th>25%</th>\n",
       "      <td>62.014950</td>\n",
       "      <td>89.800000</td>\n",
       "      <td>18004.000000</td>\n",
       "      <td>34.700000</td>\n",
       "      <td>1.000000</td>\n",
       "      <td>1 days 07:30:00</td>\n",
       "    </tr>\n",
       "    <tr>\n",
       "      <th>50%</th>\n",
       "      <td>74.954755</td>\n",
       "      <td>95.000000</td>\n",
       "      <td>28010.000000</td>\n",
       "      <td>38.200000</td>\n",
       "      <td>1.000000</td>\n",
       "      <td>2 days 13:00:00</td>\n",
       "    </tr>\n",
       "    <tr>\n",
       "      <th>75%</th>\n",
       "      <td>84.948101</td>\n",
       "      <td>100.800000</td>\n",
       "      <td>39239.000000</td>\n",
       "      <td>42.500000</td>\n",
       "      <td>1.000000</td>\n",
       "      <td>3 days 06:45:00</td>\n",
       "    </tr>\n",
       "    <tr>\n",
       "      <th>max</th>\n",
       "      <td>100.000000</td>\n",
       "      <td>856.000000</td>\n",
       "      <td>99109.000000</td>\n",
       "      <td>85.100000</td>\n",
       "      <td>1.000000</td>\n",
       "      <td>6 days 23:53:00</td>\n",
       "    </tr>\n",
       "  </tbody>\n",
       "</table>\n",
       "</div>"
      ],
      "text/plain": [
       "       Percentage White     Sex Ratio  Total Population    Median Age  \\\n",
       "count      61177.000000  61163.000000      61246.000000  61160.000000   \n",
       "mean          70.693466     97.297685      30097.838896     38.982216   \n",
       "std           18.664267     24.586298      15683.636977      6.722132   \n",
       "min            0.599855     47.400000          0.000000     19.100000   \n",
       "25%           62.014950     89.800000      18004.000000     34.700000   \n",
       "50%           74.954755     95.000000      28010.000000     38.200000   \n",
       "75%           84.948101    100.800000      39239.000000     42.500000   \n",
       "max          100.000000    856.000000      99109.000000     85.100000   \n",
       "\n",
       "       Open Weekend             Total duration  \n",
       "count  53728.000000                      64616  \n",
       "mean       0.963110  2 days 07:20:29.161507985  \n",
       "std        0.188492  1 days 10:36:12.604976744  \n",
       "min        0.000000            0 days 00:00:00  \n",
       "25%        1.000000            1 days 07:30:00  \n",
       "50%        1.000000            2 days 13:00:00  \n",
       "75%        1.000000            3 days 06:45:00  \n",
       "max        1.000000            6 days 23:53:00  "
      ]
     },
     "execution_count": 307,
     "metadata": {},
     "output_type": "execute_result"
    }
   ],
   "source": [
    "df_export[['Percentage White', 'Sex Ratio', 'Total Population', 'Median Age', 'Open Weekend', 'Total duration']].describe()"
   ]
  },
  {
   "cell_type": "code",
   "execution_count": null,
   "id": "5a441c74",
   "metadata": {},
   "outputs": [],
   "source": [
    "df_export['Percentage White'].describe()"
   ]
  },
  {
   "cell_type": "markdown",
   "id": "4d22eb2d",
   "metadata": {},
   "source": [
    "# Prediction Regression: Not Included in Report"
   ]
  },
  {
   "cell_type": "code",
   "execution_count": 308,
   "id": "4a64b76f",
   "metadata": {},
   "outputs": [
    {
     "data": {
      "text/plain": [
       "Index(['business_id', 'name', 'address', 'city', 'state', 'postal_code',\n",
       "       'latitude', 'longitude', 'stars', 'review_count', 'is_open',\n",
       "       'attributes', 'categories', 'hours', 'avg_rating', 'review_id',\n",
       "       'useful', 'funny', 'cool', 'median_rating', 'RestaurantsTakeOut',\n",
       "       'BusinessParking', 'BusinessAcceptsCreditCards',\n",
       "       'RestaurantsPriceRange2', 'RestaurantsDelivery', 'Total duration',\n",
       "       'Open Weekend', 'Median Age', 'Total Population', 'Sex Ratio',\n",
       "       'Percentage White'],\n",
       "      dtype='object')"
      ]
     },
     "execution_count": 308,
     "metadata": {},
     "output_type": "execute_result"
    }
   ],
   "source": [
    "df_export.columns"
   ]
  },
  {
   "cell_type": "code",
   "execution_count": 341,
   "id": "37eaa086",
   "metadata": {},
   "outputs": [],
   "source": [
    "df_export_2 = df_export.dropna()"
   ]
  },
  {
   "cell_type": "code",
   "execution_count": 343,
   "id": "ce38ae43",
   "metadata": {},
   "outputs": [],
   "source": [
    "y = df_export_2[['avg_rating']]"
   ]
  },
  {
   "cell_type": "code",
   "execution_count": 344,
   "id": "18f5f616",
   "metadata": {},
   "outputs": [],
   "source": [
    "X = df_export_2[['useful', 'funny', 'cool', 'RestaurantsTakeOut',\n",
    "       'BusinessParking', 'BusinessAcceptsCreditCards',\n",
    "       'RestaurantsPriceRange2', 'RestaurantsDelivery', \n",
    "       'Open Weekend', 'Median Age', 'Total Population', 'Sex Ratio',\n",
    "       'Percentage White']]"
   ]
  },
  {
   "cell_type": "code",
   "execution_count": 353,
   "id": "ade9a08d",
   "metadata": {},
   "outputs": [],
   "source": [
    "from sklearn.preprocessing import MinMaxScaler"
   ]
  },
  {
   "cell_type": "code",
   "execution_count": 356,
   "id": "476ba91a",
   "metadata": {},
   "outputs": [],
   "source": [
    "scaler = MinMaxScaler()\n",
    "scaler.fit(X)\n",
    "X = scaler.transform(X)"
   ]
  },
  {
   "cell_type": "code",
   "execution_count": 347,
   "id": "be4d541a",
   "metadata": {},
   "outputs": [],
   "source": [
    "from sklearn.svm import SVR\n",
    "from sklearn.pipeline import make_pipeline\n",
    "from sklearn.preprocessing import StandardScaler\n",
    "from sklearn.metrics import mean_squared_error\n",
    "from sklearn.model_selection import train_test_split"
   ]
  },
  {
   "cell_type": "code",
   "execution_count": 360,
   "id": "a52cdbdd",
   "metadata": {},
   "outputs": [],
   "source": [
    "X_train, X_test, y_train, y_test = train_test_split(X, y, test_size=0.33, random_state=42)"
   ]
  },
  {
   "cell_type": "code",
   "execution_count": 361,
   "id": "fd5be50c",
   "metadata": {},
   "outputs": [
    {
     "name": "stderr",
     "output_type": "stream",
     "text": [
      "/Users/ridhikaagrawal/opt/anaconda3/lib/python3.9/site-packages/sklearn/utils/validation.py:993: DataConversionWarning: A column-vector y was passed when a 1d array was expected. Please change the shape of y to (n_samples, ), for example using ravel().\n",
      "  y = column_or_1d(y, warn=True)\n"
     ]
    }
   ],
   "source": [
    "svr = SVR().fit(X_train, y_train)"
   ]
  },
  {
   "cell_type": "code",
   "execution_count": 362,
   "id": "095d8372",
   "metadata": {},
   "outputs": [],
   "source": [
    "yfit = svr.predict(X_test)"
   ]
  },
  {
   "cell_type": "code",
   "execution_count": 363,
   "id": "3466e536",
   "metadata": {},
   "outputs": [
    {
     "name": "stdout",
     "output_type": "stream",
     "text": [
      "R-squared: 0.06468998584092323\n",
      "MSE: 0.6413388188288494\n"
     ]
    }
   ],
   "source": [
    "score = svr.score(X_test,y_test)\n",
    "print(\"R-squared:\", score)\n",
    "print(\"MSE:\", mean_squared_error(y_test, yfit))"
   ]
  },
  {
   "cell_type": "code",
   "execution_count": 364,
   "id": "b9025dc5",
   "metadata": {},
   "outputs": [
    {
     "name": "stdout",
     "output_type": "stream",
     "text": [
      "R-squared: 0.0735599008748905\n"
     ]
    }
   ],
   "source": [
    "score = svr.score(X_train, y_train)\n",
    "print(\"R-squared:\", score)\n",
    "# print(\"MSE:\", mean_squared_error(y_test, yfit))"
   ]
  },
  {
   "cell_type": "markdown",
   "id": "1cde9458",
   "metadata": {},
   "source": [
    "# Figures"
   ]
  },
  {
   "cell_type": "code",
   "execution_count": 365,
   "id": "0ca23b6b",
   "metadata": {
    "scrolled": false
   },
   "outputs": [
    {
     "data": {
      "image/png": "[encoded data removed]",
      "text/plain": [
       "<Figure size 1250x1250 with 30 Axes>"
      ]
     },
     "metadata": {},
     "output_type": "display_data"
    }
   ],
   "source": [
    "# import seaborn as sns\n",
    "import matplotlib.pyplot as plt\n",
    "sns.pairplot(df_export[['RestaurantsTakeOut','BusinessParking', \n",
    "                        'BusinessAcceptsCreditCards','RestaurantsPriceRange2',\n",
    "                        'RestaurantsDelivery']])\n",
    "plt.show() "
   ]
  },
  {
   "cell_type": "code",
   "execution_count": 321,
   "id": "6f720b70",
   "metadata": {},
   "outputs": [
    {
     "data": {
      "image/png": "[encoded data removed]",
      "text/plain": [
       "<Figure size 1000x1000 with 20 Axes>"
      ]
     },
     "metadata": {},
     "output_type": "display_data"
    }
   ],
   "source": [
    "sns.pairplot(df_export[['Median Age', 'Total Population', 'Sex Ratio','Percentage White']])\n",
    "plt.show()"
   ]
  }
 ],
 "metadata": {
  "kernelspec": {
   "display_name": "Python 3 (ipykernel)",
   "language": "python",
   "name": "python3"
  },
  "language_info": {
   "codemirror_mode": {
    "name": "ipython",
    "version": 3
   },
   "file_extension": ".py",
   "mimetype": "text/x-python",
   "name": "python",
   "nbconvert_exporter": "python",
   "pygments_lexer": "ipython3",
   "version": "3.9.13"
  }
 },
 "nbformat": 4,
 "nbformat_minor": 5
}
